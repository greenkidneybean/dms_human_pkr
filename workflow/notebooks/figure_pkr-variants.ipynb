{
 "cells": [
  {
   "cell_type": "code",
   "execution_count": 1,
   "id": "faee2597-95d1-46d7-909f-92df0e864554",
   "metadata": {},
   "outputs": [],
   "source": [
    "# Plot PKR variants made in each window\n",
    "# Figures 2D and 5D"
   ]
  },
  {
   "cell_type": "code",
   "execution_count": 11,
   "id": "877496e5-f7dd-42a4-89af-d9d4ca37a706",
   "metadata": {},
   "outputs": [],
   "source": [
    "import os\n",
    "import pandas as pd\n",
    "from scipy.stats import f_oneway,tukey_hsd,ttest_ind\n",
    "import seaborn as sns\n",
    "import matplotlib.pyplot as plt\n",
    "plt.rcParams['pdf.fonttype'] = 42  # Makes text editable\n",
    "plt.rcParams['ps.fonttype'] = 42   # For PostScript backend as well"
   ]
  },
  {
   "cell_type": "code",
   "execution_count": 12,
   "id": "2262e7d1-48f0-458e-858e-8229dab0603e",
   "metadata": {},
   "outputs": [],
   "source": [
    "# figure save directory\n",
    "save_dir = \"../../results/figures/pkr-variants\"\n",
    "os.makedirs(save_dir, exist_ok=True)"
   ]
  },
  {
   "cell_type": "code",
   "execution_count": 13,
   "id": "f0ceb981-07a1-42f1-a043-1fa96e2db037",
   "metadata": {},
   "outputs": [],
   "source": [
    "input_file = '../../results/barseq/pkr-variant-reads_240228.csv'\n",
    "df = pd.read_csv(input_file)\n",
    "\n",
    "def pkr_type(x, pkr_stop = 551):\n",
    "    if x[-1] == \"*\" and int(x.split('-')[1][1:-1]) < pkr_stop:\n",
    "        return \"Nonsense\"\n",
    "    elif x[-2:] == 'WT':\n",
    "        return \"WT\"\n",
    "    else:\n",
    "        return 'Variant'\n",
    "df['pkr_type'] = df['pkr'].apply(pkr_type)"
   ]
  },
  {
   "cell_type": "code",
   "execution_count": 15,
   "id": "6c7e4c12-42fb-4265-a0af-b608d31af901",
   "metadata": {},
   "outputs": [],
   "source": [
    "# var categories\n",
    "aa_pos = ['H','K','R']\n",
    "aa_neg = ['D','E']\n",
    "aa_neutral = ['C','N','Q','S','T']\n",
    "aa_nonpolar = ['A','I','L','M','V']\n",
    "aa_aromatic = ['F','W','Y']\n",
    "aa_unique = ['G','P']\n",
    "aa_stop = ['*']\n",
    "\n",
    "full_list = [aa_pos,aa_neg,aa_neutral,aa_nonpolar,aa_aromatic,aa_unique,aa_stop]\n",
    "aa_categories = ['Positive Charge','Negative Charge','Polar-Neutral','Non-Polar','Aromatic','Unique','Stop']\n",
    "\n",
    "aa_dict = {key:value for key,value in zip(aa_categories,full_list)}\n",
    "\n",
    "def map_aa(value):\n",
    "    for key, values_list in aa_dict.items():\n",
    "        if value in values_list:\n",
    "            return key\n",
    "    return None\n",
    "\n",
    "df['wt_cat'] = df.loc[:, 'wt_aa'].apply(map_aa)\n",
    "df['var_cat'] = df.loc[:, 'var_aa'].apply(map_aa)"
   ]
  },
  {
   "cell_type": "code",
   "execution_count": 35,
   "id": "8e982bce-4f32-4692-9b7b-13de0f06624b",
   "metadata": {},
   "outputs": [
    {
     "data": {
      "text/html": [
       "<div>\n",
       "<style scoped>\n",
       "    .dataframe tbody tr th:only-of-type {\n",
       "        vertical-align: middle;\n",
       "    }\n",
       "\n",
       "    .dataframe tbody tr th {\n",
       "        vertical-align: top;\n",
       "    }\n",
       "\n",
       "    .dataframe thead th {\n",
       "        text-align: right;\n",
       "    }\n",
       "</style>\n",
       "<table border=\"1\" class=\"dataframe\">\n",
       "  <thead>\n",
       "    <tr style=\"text-align: right;\">\n",
       "      <th></th>\n",
       "      <th>pkr_regions</th>\n",
       "      <th>var_cat</th>\n",
       "      <th>count</th>\n",
       "    </tr>\n",
       "  </thead>\n",
       "  <tbody>\n",
       "    <tr>\n",
       "      <th>0</th>\n",
       "      <td>α0/β1</td>\n",
       "      <td>Non-Polar</td>\n",
       "      <td>49</td>\n",
       "    </tr>\n",
       "    <tr>\n",
       "      <th>1</th>\n",
       "      <td>α0/β1</td>\n",
       "      <td>Polar-Neutral</td>\n",
       "      <td>40</td>\n",
       "    </tr>\n",
       "    <tr>\n",
       "      <th>2</th>\n",
       "      <td>α0/β1</td>\n",
       "      <td>Positive Charge</td>\n",
       "      <td>19</td>\n",
       "    </tr>\n",
       "    <tr>\n",
       "      <th>3</th>\n",
       "      <td>α0/β1</td>\n",
       "      <td>Negative Charge</td>\n",
       "      <td>13</td>\n",
       "    </tr>\n",
       "    <tr>\n",
       "      <th>4</th>\n",
       "      <td>α0/β1</td>\n",
       "      <td>Aromatic</td>\n",
       "      <td>9</td>\n",
       "    </tr>\n",
       "  </tbody>\n",
       "</table>\n",
       "</div>"
      ],
      "text/plain": [
       "  pkr_regions          var_cat  count\n",
       "0       α0/β1        Non-Polar     49\n",
       "1       α0/β1    Polar-Neutral     40\n",
       "2       α0/β1  Positive Charge     19\n",
       "3       α0/β1  Negative Charge     13\n",
       "4       α0/β1         Aromatic      9"
      ]
     },
     "execution_count": 35,
     "metadata": {},
     "output_type": "execute_result"
    }
   ],
   "source": [
    "# barchart of variants by region and variant type\n",
    "temp_df = df.query('k3 == \"K3L-WT\"').groupby('pkr_regions')['var_cat'].value_counts().reset_index()\n",
    "\n",
    "region_dict = {'Region 1':'α0/β1', 'Region 2':'αD', 'Region 3':'Activation Loop','Region 4':'αG'}\n",
    "temp_df['pkr_regions'] = temp_df['pkr_regions'].map(region_dict)\n",
    "\n",
    "color_dict = {'α0/β1':'#F0B142', 'αD':'#E06B37','Activation Loop':'#C9397D','αG':'#722758'}\n",
    "\n",
    "temp_df.head()"
   ]
  },
  {
   "cell_type": "code",
   "execution_count": 46,
   "id": "a7f3195d-7bfd-4aae-b171-dbdc03be6b19",
   "metadata": {},
   "outputs": [
    {
     "data": {
      "text/plain": [
       "pkr_regions\n",
       "Activation Loop     43\n",
       "α0/β1              140\n",
       "αD                  86\n",
       "αG                 161\n",
       "Name: count, dtype: int64"
      ]
     },
     "execution_count": 46,
     "metadata": {},
     "output_type": "execute_result"
    }
   ],
   "source": [
    "temp_df.groupby('pkr_regions')['count'].sum()\n"
   ]
  },
  {
   "cell_type": "code",
   "execution_count": null,
   "id": "5ba02d6a-5457-4bca-882c-66c14d6f4e84",
   "metadata": {},
   "outputs": [],
   "source": [
    "# total variants\n",
    "temp_df.groupby('pkr_regions')['count'].sum().sum()"
   ]
  },
  {
   "cell_type": "code",
   "execution_count": 43,
   "id": "e0f0aa86-c870-4ef3-bf7c-256c7ffd6500",
   "metadata": {},
   "outputs": [
    {
     "data": {
      "image/png": "[encoded data removed]",
      "text/plain": [
       "<Figure size 300x250 with 1 Axes>"
      ]
     },
     "metadata": {},
     "output_type": "display_data"
    }
   ],
   "source": [
    "# make barchart plot\n",
    "\n",
    "# plot parameters\n",
    "width_in = 3 #2\n",
    "height_in = 2.5\n",
    "font_size = 8\n",
    "font = 'Arial'\n",
    "stroke = .25\n",
    "tick_len = 3\n",
    "alpha_val = .2\n",
    "marker_diameter = 3\n",
    "ymin = -5\n",
    "ymax=5.9\n",
    "\n",
    "font = {'family': font, 'size': font_size}\n",
    "plt.rc('font', **font)\n",
    "\n",
    "plt.rc('lines', linewidth=stroke)\n",
    "\n",
    "plt.figure(figsize=(width_in, height_in)) # save size\n",
    "\n",
    "# colors for region\n",
    "\n",
    "ax = sns.barplot(\n",
    "    data=temp_df, \n",
    "    x=\"var_cat\", \n",
    "    y=\"count\", \n",
    "    hue=\"pkr_regions\",\n",
    "    palette=color_dict,\n",
    "    order = aa_categories\n",
    ")\n",
    "\n",
    "# modify plot spines\n",
    "ax.spines['right'].set_visible(False)\n",
    "ax.spines['top'].set_visible(False)\n",
    "ax.spines['left'].set_linewidth(stroke)\n",
    "ax.spines['bottom'].set_linewidth(stroke)\n",
    "\n",
    "\n",
    "\n",
    "# Set major tick length\n",
    "ax.tick_params(axis='both', direction='out', length=tick_len, width=stroke)\n",
    "plt.gca().yaxis.set_tick_params(width=stroke, which='both', direction='out')\n",
    "\n",
    "# x labels\n",
    "plt.xlabel('Amino Acid Properties')\n",
    "plt.xticks(rotation=45, ha='right')\n",
    "\n",
    "# y labels\n",
    "plt.ylabel('Count')\n",
    "\n",
    "# legend\n",
    "plt.legend(title='PKR Windows', frameon=False, bbox_to_anchor=(1.01, 1), loc='upper left')\n",
    "\n",
    "# save plot\n",
    "fig = ax.get_figure()\n",
    "plot_name = f'pkr-variants.pdf'\n",
    "output_file = os.path.join(save_dir, plot_name)\n",
    "fig.savefig(output_file, format='pdf', transparent=True)\n"
   ]
  },
  {
   "cell_type": "code",
   "execution_count": null,
   "id": "adfc52f4-44d6-4427-a369-d692b6780cc3",
   "metadata": {},
   "outputs": [],
   "source": []
  }
 ],
 "metadata": {
  "kernelspec": {
   "display_name": "Python 3 (ipykernel)",
   "language": "python",
   "name": "python3"
  },
  "language_info": {
   "codemirror_mode": {
    "name": "ipython",
    "version": 3
   },
   "file_extension": ".py",
   "mimetype": "text/x-python",
   "name": "python",
   "nbconvert_exporter": "python",
   "pygments_lexer": "ipython3",
   "version": "3.8.18"
  }
 },
 "nbformat": 4,
 "nbformat_minor": 5
}

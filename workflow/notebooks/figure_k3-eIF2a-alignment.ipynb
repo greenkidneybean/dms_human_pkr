{
 "cells": [
  {
   "cell_type": "code",
   "execution_count": 4,
   "id": "5229ccc5-92dc-4810-aed8-22e798a31265",
   "metadata": {},
   "outputs": [],
   "source": [
    "# parse sequence alignment of k3 and eIF2a\n",
    "# highlight k3 residues similar to eIF2a and color on surface of structure\n",
    "from Bio import SeqIO"
   ]
  },
  {
   "cell_type": "code",
   "execution_count": 10,
   "id": "595f48fe-8f25-470f-8860-b5175f777b65",
   "metadata": {},
   "outputs": [
    {
     "data": {
      "text/plain": [
       "{'Homo_sapiens_eIF2α_NP_004085.1': 'MPGLSCRFYQHKFPEVEDVVMVNVRSIAEMGAYVSLLEYNNIEGMILLSELSR--RRIRSINKLIRIGRNECVVVIRVDKEKGYIDLSKRRVSPEEAIKCEDKFTKSKTVYSILRHVAEVLEYTKDEQLESLFQRTAWVFDDKYKRPGYGAYDAFKHAVSDPSILDSLDLNEDEREVLINNINRRLTPQAVKIRADIEVACYGYEGIDAVKEALRAGLNCSTENMPIKINLIAPPRYVMTTTTLERTEGLSVLSQAMAVIKEKIEEKRGVFNVQMEPKVVTDTDETELARQMERLERENAEVDGDDDAEEMEAKAED',\n",
       " 'Vaccinia_K3_YP_232916.1': '-----MLAFCYSLPNAGDVIKGRVYE-KDYALYIYLFDYPHFEAILAESVKMHMDRYVEYRDKL--VGKTVKVKVIRVDYTKGYIDVNYKRMCRHQ-----------------------------------------------------------------------------------------------------------------------------------------------------------------------------------------------------------------------------'}"
      ]
     },
     "execution_count": 10,
     "metadata": {},
     "output_type": "execute_result"
    }
   ],
   "source": [
    "# Replace 'your_file.aln' with the path to your .aln file\n",
    "file = '../../data/sequences/k3_eIF2a_alignment.fa'\n",
    "\n",
    "def parse_fasta(file_path):\n",
    "    fasta_records = {}\n",
    "    # Parse the .fa file using SeqIO.parse\n",
    "    for record in SeqIO.parse(file_path, \"fasta\"):\n",
    "        fasta_records[record.id] = str(record.seq)\n",
    "    return fasta_records\n",
    "\n",
    "# Example usage:\n",
    "fasta_file = \"example.fa\"  # Replace with your file path\n",
    "seq_dict = parse_fasta(file)\n",
    "seq_dict"
   ]
  },
  {
   "cell_type": "code",
   "execution_count": 35,
   "id": "8f8c8f15-323c-47dc-90ce-46f56c22f130",
   "metadata": {},
   "outputs": [],
   "source": [
    "eif2a = seq_dict['Homo_sapiens_eIF2α_NP_004085.1']\n",
    "k3 = seq_dict['Vaccinia_K3_YP_232916.1']\n",
    "\n",
    "same_list = []\n",
    "dif_list = []\n",
    "same_color = 'gray'\n",
    "dif_color = '#786bac'\n",
    "structure = 'surface'\n",
    "k3_i = 1\n",
    "for i,(k3_n,eif2a_n) in enumerate(zip(k3,eif2a)):\n",
    "    if k3_n == '-':\n",
    "        continue\n",
    "    elif k3_n == eif2a_n:\n",
    "        same_list.append(str(k3_i))\n",
    "        k3_i = k3_i + 1\n",
    "    else:\n",
    "        dif_list.append(str(k3_i))\n",
    "        k3_i = k3_i + 1"
   ]
  },
  {
   "cell_type": "code",
   "execution_count": 36,
   "id": "d2c43393-c423-4b9b-9aaa-495f6d40ba75",
   "metadata": {},
   "outputs": [
    {
     "name": "stdout",
     "output_type": "stream",
     "text": [
      "color #4/B:9,13,14,19,27,30,33,37,43,50,57,58,60,65,67,68,69,70,71,74,75,76,77,78,83 gray surface; color #4/B:1,2,3,4,5,6,7,8,10,11,12,15,16,17,18,20,21,22,23,24,25,26,28,29,31,32,34,35,36,38,39,40,41,42,44,45,46,47,48,49,51,52,53,54,55,56,59,61,62,63,64,66,72,73,79,80,81,82,84,85,86,87,88 #786bac surface\n"
     ]
    }
   ],
   "source": [
    "print(f'color #4/B:{\",\".join(same_list)} {same_color} {structure}; color #4/B:{\",\".join(dif_list)} {dif_color} {structure}')"
   ]
  },
  {
   "cell_type": "code",
   "execution_count": null,
   "id": "0d8be341-9163-487a-875f-620707ea064f",
   "metadata": {},
   "outputs": [],
   "source": []
  }
 ],
 "metadata": {
  "kernelspec": {
   "display_name": "bio_env",
   "language": "python",
   "name": "bio_env"
  },
  "language_info": {
   "codemirror_mode": {
    "name": "ipython",
    "version": 3
   },
   "file_extension": ".py",
   "mimetype": "text/x-python",
   "name": "python",
   "nbconvert_exporter": "python",
   "pygments_lexer": "ipython3",
   "version": "3.8.18"
  }
 },
 "nbformat": 4,
 "nbformat_minor": 5
}
